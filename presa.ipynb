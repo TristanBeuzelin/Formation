{
 "metadata": {
  "language_info": {
   "codemirror_mode": {
    "name": "ipython",
    "version": 3
   },
   "file_extension": ".py",
   "mimetype": "text/x-python",
   "name": "python",
   "nbconvert_exporter": "python",
   "pygments_lexer": "ipython3",
   "version": "3.8.3"
  },
  "orig_nbformat": 2,
  "kernelspec": {
   "name": "python383jvsc74a57bd00811920e2ef853ab8004e7fdb662ea3d9440f51e86a042062f1c00ac65529b0f",
   "display_name": "Python 3.8.3 64-bit (conda)"
  }
 },
 "nbformat": 4,
 "nbformat_minor": 2,
 "cells": [
  {
   "source": [
    "# Implémentation d'un système de tweet en Django"
   ],
   "cell_type": "markdown",
   "metadata": {}
  },
  {
   "source": [
    "## Prérequis"
   ],
   "cell_type": "markdown",
   "metadata": {}
  },
  {
   "source": [
    "### Installation de Django et lancement du projet"
   ],
   "cell_type": "markdown",
   "metadata": {}
  },
  {
   "source": [
    "### Mise en place de l'environnement virtuel sur Windows 10"
   ],
   "cell_type": "markdown",
   "metadata": {}
  },
  {
   "source": [
    "Il faut d'abord installer l'outil de mise en place de notre environnement virtuel.\n",
    "\n",
    "* Sur Windows 10, taper *pip install virtualenvwrapper-win*\n",
    "HYPER GALERE SUR MON PC"
   ],
   "cell_type": "markdown",
   "metadata": {}
  },
  {
   "source": [
    "### Installation de Django"
   ],
   "cell_type": "markdown",
   "metadata": {}
  },
  {
   "source": [
    "Pour installer Django, dans GitBash:\n",
    "*python -m pip install Django*"
   ],
   "cell_type": "markdown",
   "metadata": {}
  },
  {
   "source": [
    "### Installation de SQLite"
   ],
   "cell_type": "markdown",
   "metadata": {}
  },
  {
   "source": [
    "Django utilise par défaut le système de bases de données SQLite, installé dans Python. Donc aucune installation n'est normalement nécesaire."
   ],
   "cell_type": "markdown",
   "metadata": {}
  },
  {
   "source": [
    "## Lancement du Projet"
   ],
   "cell_type": "markdown",
   "metadata": {}
  },
  {
   "source": [
    "Pour lancer un prjet django, lancer la commande:\n",
    "\n",
    "*django-admin startproject <project_name>*\n",
    "\n",
    "Choisissons **tweet_project** pour nom de projet."
   ],
   "cell_type": "markdown",
   "metadata": {}
  },
  {
   "source": [
    "Voyons ce que *startproject* a crée :\n",
    "\n",
    "    tweet_project/\n",
    "\n",
    "        manage.py\n",
    "\n",
    "        tweet_project/\n",
    "\n",
    "            __init__.py\n",
    "\n",
    "            settings.py\n",
    "\n",
    "            urls.py\n",
    "\n",
    "            asgi.py\n",
    "        \n",
    "            wsgi.py\n"
   ],
   "cell_type": "markdown",
   "metadata": {}
  },
  {
   "source": [
    "Faisons un petit inventaire des fichiers crées :\n",
    "\n",
    "* *manage.py* est un exectuable python en ligne de commande qui nous permettra d'interagir avec le projet Django. Nous verrons par la suite quelques exemples de son utilisation.\n",
    "\n",
    "* Le sous répertoire *tweet_project* effectif du projet. Quasiment tout ce que nous coderons et importerons se trouvera dans ce fichier.\n",
    "* *tweet_project/\\__init__.py* est un fichier vide qui indique à Python que ce répertoire doit être considéré comme un paquet. Nous ne nous en préoccuperons pas à notre niveau.\n",
    "\n",
    "* *tweet_project/settings.py* est le fichier qui gère les réglages et la configuration de notre projet Django. Nous y changerons des paramètres dans la suite.\n",
    "\n",
    "* *tweet_project/urls.py* servira à déclarer les URL utilisées par notre projet Django.\n",
    "\n",
    "* *asgi.py* est un fichier qui sert de points d'entrée pour les serveurs Web compatibles aSGI pour déployer notre projet. Nous n'irons pas jusque là.\n",
    "\n",
    "* *wsgi.py* même chose mais pour les serveurs Web compatibles WSGI."
   ],
   "cell_type": "markdown",
   "metadata": {}
  },
  {
   "source": [
    "## Lancement du serveur de développement"
   ],
   "cell_type": "markdown",
   "metadata": {}
  },
  {
   "source": [
    "Afin de tester notre projet en phase de développement, il suffit de lancer la commande : *python manage.py runserver*. Le serveur est alors lancé en local sur l'adresse *127.0.0.1:8000* (le port est changeable, demandez nous si besoin).\n",
    "\n",
    "Si vous essayez de vous y connecter, vous obtiendrez peut-être le message suivant :\n",
    "\n",
    "![erreur_lancement](images_presa/erreur_lancement.jpg)\n",
    "\n",
    "Ne paniquez pas, restez calme. Il faut simplement ajouter l'adresse *127.0.0.1* à notre fichier settings, à l'endroit suivant :\n",
    "\n",
    "![settings_url](images_presa/settings_url.jpg)\n",
    "\n",
    "Cette ligne de code signale simplement à Django qu'il est autorisé à lancer le serveur sur l'adresse indiquée. Vous n'avez pas besoin d'interrompre le programme *manage.py runserver* pendant vos modifications, elles sont automatiquement prises en compte. Si vous actualisez maintenant la page, vous devriez voir apparaître une jolie fusée vous signifiant que le lancement du projet est réussi !"
   ],
   "cell_type": "markdown",
   "metadata": {}
  },
  {
   "source": [
    "## Création de l'application *tweet*"
   ],
   "cell_type": "markdown",
   "metadata": {}
  },
  {
   "source": [
    "Maintenant que notre environnement de travail est en place, il est temps de créer une application. Une application est une application Web qui fait quelque chose – par exemple un système de blog, une base de données publique ou une petite application de sondage. Le projet est quant à lui un ensemble d'applications qui constituent un site Web. "
   ],
   "cell_type": "markdown",
   "metadata": {}
  },
  {
   "source": [
    "Pour créer notre applications, plaçons nous dans le même répertoire que *manage.py* et lançons la commande : *python manage.py startapp tweet*"
   ],
   "cell_type": "markdown",
   "metadata": {}
  },
  {
   "source": [
    "Cela a pour effet de créer un répertoire *tweet*, structuré de la façon suivante :\n",
    "\n",
    "    tweet/\n",
    "\n",
    "        __init__.py\n",
    "\n",
    "        admin.py\n",
    "\n",
    "        apps.py\n",
    "\n",
    "        migrations/\n",
    "\n",
    "            __init__.py\n",
    "\n",
    "        models.py\n",
    "\n",
    "        tests.py\n",
    "        \n",
    "        views.py"
   ],
   "cell_type": "markdown",
   "metadata": {}
  },
  {
   "source": [
    "Là encore, un petit inventaire des fichiers présents :\n",
    "\n",
    "* *\\__init__.py* déclare que ce répertoire est une librairie\n",
    "\n",
    "* *admin.py* : configuration de l'espace d'administration\n",
    "\n",
    "* *apps.py* : configuration de l'application\n",
    "\n",
    "* *migrations* : fichiers qui modifient la structure de la base de données\n",
    "\n",
    "* *models.py* : modèles de l'application (nous y reviendrons)\n",
    "\n",
    "* *tests.py* : contiendra les tests de notre application\n",
    "\n",
    "* *views.py* : vues de l'application (nous y reviendrons)"
   ],
   "cell_type": "markdown",
   "metadata": {}
  },
  {
   "source": [
    "Chaque création d'application nécessite de déclarer celle-ci à notre projet, c'est à dire dans *settings.py* comme ceci :\n",
    "\n",
    "![appconfig](images_presa/appconfig.jpg)"
   ],
   "cell_type": "markdown",
   "metadata": {}
  },
  {
   "source": [
    "Nous pouvons maintenant développer notre application de gestion de tweets. Pour cela, il est nécessaire de connaître le principe de l'architecture MVT (Model-View-Template)."
   ],
   "cell_type": "markdown",
   "metadata": {}
  },
  {
   "source": [
    "# L'architecture MVT"
   ],
   "cell_type": "markdown",
   "metadata": {}
  },
  {
   "cell_type": "code",
   "execution_count": null,
   "metadata": {},
   "outputs": [],
   "source": []
  }
 ]
}